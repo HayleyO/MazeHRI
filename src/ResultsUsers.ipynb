{
 "cells": [
  {
   "cell_type": "code",
   "execution_count": 4,
   "metadata": {},
   "outputs": [],
   "source": [
    "from SaveAndLoadHelper import load\n",
    "\n",
    "names = [\"Hayley\", \"Wenchang\", \"jammyjim\", \"Mavis\", \"adam\", \"Walker T\"]\n",
    "truth_steps = []\n",
    "for name in names:\n",
    "    _, _, steps_truth_alg, _, _ = load(path=\"SavedRuns/Person\", name=\"True_Guidance_w_Alg_\"+ str(name))\n",
    "    print(name)\n",
    "    print(steps_truth_alg)\n",
    "    truth_steps.append(steps_truth_alg[0])\n",
    "\n",
    "lie_steps = []\n",
    "for name in names:\n",
    "    _, _, steps_lie_alg, _, _ = load(path=\"SavedRuns/Person\", name=\"Lie_Guidance_w_Alg_\"+ str(name))\n",
    "    print(name)\n",
    "    print(steps_lie_alg)\n",
    "    lie_steps.append(steps_lie_alg[0])\n",
    "\n",
    "truth_steps_no_alg = []\n",
    "for name in names:\n",
    "    _, _, steps_truth_no_alg, _, _ = load(path=\"SavedRuns/Person\", name=\"True_Guidance_without_Alg_\"+ str(name))\n",
    "    print(name)\n",
    "    print(steps_truth_no_alg)\n",
    "    truth_steps_no_alg.append(steps_truth_no_alg[0])\n",
    "\n",
    "lie_steps_no_alg = []\n",
    "for name in names:\n",
    "    _, _, steps_lie_no_alg, _, _ = load(path=\"SavedRuns/Person\", name=\"Lie_Guidance_without_Alg_\"+ str(name))\n",
    "    print(name)\n",
    "    print(steps_lie_no_alg)\n",
    "    lie_steps_no_alg.append(steps_lie_no_alg[0])\n",
    "\n",
    "no_guide = []\n",
    "for name in names:\n",
    "    _, _, steps_no_guide, _, _ = load(path=\"SavedRuns/Person\", name=\"No_Guidance_\"+ str(name))\n",
    "    print(name)\n",
    "    print(steps_no_guide)\n",
    "    no_guide.append(steps_no_guide[0])\n"
   ]
  },
  {
   "cell_type": "code",
   "execution_count": 5,
   "metadata": {},
   "outputs": [
    {
     "data": {
      "text/plain": [
       "[12, 17, 28, 12, 9, 16]"
      ]
     },
     "execution_count": 5,
     "metadata": {},
     "output_type": "execute_result"
    }
   ],
   "source": []
  },
  {
   "cell_type": "code",
   "execution_count": 6,
   "metadata": {},
   "outputs": [
    {
     "data": {
      "image/png": "[encoded data removed]",
      "text/plain": [
       "<Figure size 1000x700 with 1 Axes>"
      ]
     },
     "metadata": {},
     "output_type": "display_data"
    }
   ],
   "source": [
    "import matplotlib.pyplot as plt\n",
    "\n",
    "fig = plt.figure(figsize =(10, 7))\n",
    "# Creating plot\n",
    "box_plot_data = [truth_steps, truth_steps_no_alg, lie_steps, lie_steps_no_alg, no_guide]\n",
    "labels = [\"Truth with Algorithm\", \"Truth No Algorithm\", \"Lie With Algorith\", \"Lie No Algorithm\", \"No Guidance\"]\n",
    "plt.boxplot(box_plot_data, labels=labels)\n",
    "plt.ylabel('Steps')\n",
    "plt.xlabel('Algorithm')\n",
    "# show plot\n",
    "plt.show()"
   ]
  },
  {
   "cell_type": "code",
   "execution_count": 7,
   "metadata": {},
   "outputs": [
    {
     "name": "stdout",
     "output_type": "stream",
     "text": [
      "15.666666666666666\n",
      "6.128258770283411\n",
      "12.0\n",
      "3.6514837167011076\n",
      "13.5\n",
      "5.823801736552049\n",
      "18.0\n",
      "5.5377492419453835\n",
      "13.666666666666666\n",
      "5.08811250749125\n"
     ]
    }
   ],
   "source": [
    "mean = sum(truth_steps) / len(truth_steps)\n",
    "print(mean)\n",
    "variance = sum([((x - mean) ** 2) for x in truth_steps]) / len(truth_steps)\n",
    "res = variance ** 0.5\n",
    "print(res)\n",
    "\n",
    "mean = sum(truth_steps_no_alg) / len(truth_steps_no_alg)\n",
    "print(mean)\n",
    "variance = sum([((x - mean) ** 2) for x in truth_steps_no_alg]) / len(truth_steps_no_alg)\n",
    "res = variance ** 0.5\n",
    "print(res)\n",
    "\n",
    "mean = sum(lie_steps) / len(lie_steps)\n",
    "print(mean)\n",
    "variance = sum([((x - mean) ** 2) for x in lie_steps]) / len(lie_steps)\n",
    "res = variance ** 0.5\n",
    "print(res)\n",
    "\n",
    "mean = sum(lie_steps_no_alg) / len(lie_steps_no_alg)\n",
    "print(mean)\n",
    "variance = sum([((x - mean) ** 2) for x in lie_steps_no_alg]) / len(lie_steps_no_alg)\n",
    "res = variance ** 0.5\n",
    "print(res)\n",
    "\n",
    "mean = sum(no_guide) / len(no_guide)\n",
    "print(mean)\n",
    "variance = sum([((x - mean) ** 2) for x in no_guide]) / len(no_guide)\n",
    "res = variance ** 0.5\n",
    "print(res)"
   ]
  },
  {
   "cell_type": "code",
   "execution_count": 10,
   "metadata": {},
   "outputs": [
    {
     "data": {
      "text/plain": [
       "F_onewayResult(statistic=4.090909090909091, pvalue=0.07067287256487945)"
      ]
     },
     "execution_count": 10,
     "metadata": {},
     "output_type": "execute_result"
    }
   ],
   "source": [
    "from scipy.stats import f_oneway\n",
    "\n",
    "f_oneway(truth_steps_no_alg, lie_steps_no_alg)\n"
   ]
  },
  {
   "cell_type": "code",
   "execution_count": 11,
   "metadata": {},
   "outputs": [
    {
     "data": {
      "text/plain": [
       "F_onewayResult(statistic=1.5677419354838709, pvalue=0.2390278485699594)"
      ]
     },
     "execution_count": 11,
     "metadata": {},
     "output_type": "execute_result"
    }
   ],
   "source": [
    "f_oneway(lie_steps, lie_steps_no_alg)"
   ]
  }
 ],
 "metadata": {
  "kernelspec": {
   "display_name": "Python 3.8.10 64-bit",
   "language": "python",
   "name": "python3"
  },
  "language_info": {
   "codemirror_mode": {
    "name": "ipython",
    "version": 3
   },
   "file_extension": ".py",
   "mimetype": "text/x-python",
   "name": "python",
   "nbconvert_exporter": "python",
   "pygments_lexer": "ipython3",
   "version": "3.8.10"
  },
  "orig_nbformat": 4,
  "vscode": {
   "interpreter": {
    "hash": "916dbcbb3f70747c44a77c7bcd40155683ae19c65e1c03b4aa3499c5328201f1"
   }
  }
 },
 "nbformat": 4,
 "nbformat_minor": 2
}
